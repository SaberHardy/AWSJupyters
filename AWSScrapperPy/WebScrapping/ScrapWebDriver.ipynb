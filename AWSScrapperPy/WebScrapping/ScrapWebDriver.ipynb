{
 "cells": [
  {
   "cell_type": "code",
   "execution_count": 73,
   "id": "c02993a5-d376-4d14-8f39-02ec8dca3e8a",
   "metadata": {},
   "outputs": [],
   "source": [
    "from selenium import webdriver\n",
    "from selenium.webdriver.chrome.service import Service as ChromeService\n",
    "from selenium.webdriver.chrome.options import Options as ChromeOptions\n",
    "from selenium.webdriver.common.by import By"
   ]
  },
  {
   "cell_type": "code",
   "execution_count": 74,
   "id": "2f1b2d23-872d-4ca3-99fe-e0caa80a9cdf",
   "metadata": {},
   "outputs": [],
   "source": [
    "driver = webdriver.Chrome()"
   ]
  },
  {
   "cell_type": "code",
   "execution_count": 75,
   "id": "5c9a974c-6d8d-4efd-8db8-183c7d8ad155",
   "metadata": {},
   "outputs": [],
   "source": [
    "driver.get(\"https://www.scrapethissite.com/pages/simple/\")\n"
   ]
  },
  {
   "cell_type": "code",
   "execution_count": 76,
   "id": "b3933ac3-3b41-46b0-a76b-3b931d7a5920",
   "metadata": {},
   "outputs": [],
   "source": [
    "title = driver.title"
   ]
  },
  {
   "cell_type": "code",
   "execution_count": 77,
   "id": "3ca7cecf-5d67-4156-8a2a-d73a8768c4e1",
   "metadata": {},
   "outputs": [],
   "source": [
    "country_elements = driver.find_elements(By.CLASS_NAME, \"country-name\")"
   ]
  },
  {
   "cell_type": "code",
   "execution_count": 78,
   "id": "b01cec06-f027-45b8-8d7e-d7acfcebe256",
   "metadata": {},
   "outputs": [],
   "source": [
    "# country_elements"
   ]
  },
  {
   "cell_type": "code",
   "execution_count": 79,
   "id": "c7faaa9e-0cad-453c-a4b0-53cdf9430411",
   "metadata": {},
   "outputs": [
    {
     "data": {
      "text/plain": [
       "list"
      ]
     },
     "execution_count": 79,
     "metadata": {},
     "output_type": "execute_result"
    }
   ],
   "source": [
    "type(country_elements)"
   ]
  },
  {
   "cell_type": "code",
   "execution_count": 80,
   "id": "385df173-2cae-46a0-959d-77b325dd0af1",
   "metadata": {},
   "outputs": [
    {
     "data": {
      "text/plain": [
       "'Afghanistan'"
      ]
     },
     "execution_count": 80,
     "metadata": {},
     "output_type": "execute_result"
    }
   ],
   "source": [
    "country_elements[2].text"
   ]
  },
  {
   "cell_type": "code",
   "execution_count": 81,
   "id": "61869ea8-cf4b-4175-8984-db93cbd4e98f",
   "metadata": {},
   "outputs": [],
   "source": [
    "# List all the countries\n",
    "countries = []\n",
    "for country in range(len(country_elements)):\n",
    "    # print(country_elements[country].text)\n",
    "    countries.append(country_elements[country].text)"
   ]
  },
  {
   "cell_type": "code",
   "execution_count": 82,
   "id": "6bb73c26-46e8-4148-a743-98b1bde8f8cb",
   "metadata": {},
   "outputs": [
    {
     "data": {
      "text/plain": [
       "['Andorra',\n",
       " 'United Arab Emirates',\n",
       " 'Afghanistan',\n",
       " 'Antigua and Barbuda',\n",
       " 'Anguilla',\n",
       " 'Albania',\n",
       " 'Armenia',\n",
       " 'Angola',\n",
       " 'Antarctica',\n",
       " 'Argentina',\n",
       " 'American Samoa',\n",
       " 'Austria',\n",
       " 'Australia',\n",
       " 'Aruba',\n",
       " 'Åland',\n",
       " 'Azerbaijan',\n",
       " 'Bosnia and Herzegovina',\n",
       " 'Barbados',\n",
       " 'Bangladesh',\n",
       " 'Belgium',\n",
       " 'Burkina Faso',\n",
       " 'Bulgaria',\n",
       " 'Bahrain',\n",
       " 'Burundi',\n",
       " 'Benin',\n",
       " 'Saint Barthélemy',\n",
       " 'Bermuda',\n",
       " 'Brunei',\n",
       " 'Bolivia',\n",
       " 'Bonaire',\n",
       " 'Brazil',\n",
       " 'Bahamas',\n",
       " 'Bhutan',\n",
       " 'Bouvet Island',\n",
       " 'Botswana',\n",
       " 'Belarus',\n",
       " 'Belize',\n",
       " 'Canada',\n",
       " 'Cocos [Keeling] Islands',\n",
       " 'Democratic Republic of the Congo',\n",
       " 'Central African Republic',\n",
       " 'Republic of the Congo',\n",
       " 'Switzerland',\n",
       " 'Ivory Coast',\n",
       " 'Cook Islands',\n",
       " 'Chile',\n",
       " 'Cameroon',\n",
       " 'China',\n",
       " 'Colombia',\n",
       " 'Costa Rica',\n",
       " 'Cuba',\n",
       " 'Cape Verde',\n",
       " 'Curacao',\n",
       " 'Christmas Island',\n",
       " 'Cyprus',\n",
       " 'Czech Republic',\n",
       " 'Germany',\n",
       " 'Djibouti',\n",
       " 'Denmark',\n",
       " 'Dominica',\n",
       " 'Dominican Republic',\n",
       " 'Algeria',\n",
       " 'Ecuador',\n",
       " 'Estonia',\n",
       " 'Egypt',\n",
       " 'Western Sahara',\n",
       " 'Eritrea',\n",
       " 'Spain',\n",
       " 'Ethiopia',\n",
       " 'Finland',\n",
       " 'Fiji',\n",
       " 'Falkland Islands',\n",
       " 'Micronesia',\n",
       " 'Faroe Islands',\n",
       " 'France',\n",
       " 'Gabon',\n",
       " 'United Kingdom',\n",
       " 'Grenada',\n",
       " 'Georgia',\n",
       " 'French Guiana',\n",
       " 'Guernsey',\n",
       " 'Ghana',\n",
       " 'Gibraltar',\n",
       " 'Greenland',\n",
       " 'Gambia',\n",
       " 'Guinea',\n",
       " 'Guadeloupe',\n",
       " 'Equatorial Guinea',\n",
       " 'Greece',\n",
       " 'South Georgia and the South Sandwich Islands',\n",
       " 'Guatemala',\n",
       " 'Guam',\n",
       " 'Guinea-Bissau',\n",
       " 'Guyana',\n",
       " 'Hong Kong',\n",
       " 'Heard Island and McDonald Islands',\n",
       " 'Honduras',\n",
       " 'Croatia',\n",
       " 'Haiti',\n",
       " 'Hungary',\n",
       " 'Indonesia',\n",
       " 'Ireland',\n",
       " 'Israel',\n",
       " 'Isle of Man',\n",
       " 'India',\n",
       " 'British Indian Ocean Territory',\n",
       " 'Iraq',\n",
       " 'Iran',\n",
       " 'Iceland',\n",
       " 'Italy',\n",
       " 'Jersey',\n",
       " 'Jamaica',\n",
       " 'Jordan',\n",
       " 'Japan',\n",
       " 'Kenya',\n",
       " 'Kyrgyzstan',\n",
       " 'Cambodia',\n",
       " 'Kiribati',\n",
       " 'Comoros',\n",
       " 'Saint Kitts and Nevis',\n",
       " 'North Korea',\n",
       " 'South Korea',\n",
       " 'Kuwait',\n",
       " 'Cayman Islands',\n",
       " 'Kazakhstan',\n",
       " 'Laos',\n",
       " 'Lebanon',\n",
       " 'Saint Lucia',\n",
       " 'Liechtenstein',\n",
       " 'Sri Lanka',\n",
       " 'Liberia',\n",
       " 'Lesotho',\n",
       " 'Lithuania',\n",
       " 'Luxembourg',\n",
       " 'Latvia',\n",
       " 'Libya',\n",
       " 'Morocco',\n",
       " 'Monaco',\n",
       " 'Moldova',\n",
       " 'Montenegro',\n",
       " 'Saint Martin',\n",
       " 'Madagascar',\n",
       " 'Marshall Islands',\n",
       " 'Macedonia',\n",
       " 'Mali',\n",
       " 'Myanmar [Burma]',\n",
       " 'Mongolia',\n",
       " 'Macao',\n",
       " 'Northern Mariana Islands',\n",
       " 'Martinique',\n",
       " 'Mauritania',\n",
       " 'Montserrat',\n",
       " 'Malta',\n",
       " 'Mauritius',\n",
       " 'Maldives',\n",
       " 'Malawi',\n",
       " 'Mexico',\n",
       " 'Malaysia',\n",
       " 'Mozambique',\n",
       " 'Namibia',\n",
       " 'New Caledonia',\n",
       " 'Niger',\n",
       " 'Norfolk Island',\n",
       " 'Nigeria',\n",
       " 'Nicaragua',\n",
       " 'Netherlands',\n",
       " 'Norway',\n",
       " 'Nepal',\n",
       " 'Nauru',\n",
       " 'Niue',\n",
       " 'New Zealand',\n",
       " 'Oman',\n",
       " 'Panama',\n",
       " 'Peru',\n",
       " 'French Polynesia',\n",
       " 'Papua New Guinea',\n",
       " 'Philippines',\n",
       " 'Pakistan',\n",
       " 'Poland',\n",
       " 'Saint Pierre and Miquelon',\n",
       " 'Pitcairn Islands',\n",
       " 'Puerto Rico',\n",
       " 'Palestine',\n",
       " 'Portugal',\n",
       " 'Palau',\n",
       " 'Paraguay',\n",
       " 'Qatar',\n",
       " 'Réunion',\n",
       " 'Romania',\n",
       " 'Serbia',\n",
       " 'Russia',\n",
       " 'Rwanda',\n",
       " 'Saudi Arabia',\n",
       " 'Solomon Islands',\n",
       " 'Seychelles',\n",
       " 'Sudan',\n",
       " 'Sweden',\n",
       " 'Singapore',\n",
       " 'Saint Helena',\n",
       " 'Slovenia',\n",
       " 'Svalbard and Jan Mayen',\n",
       " 'Slovakia',\n",
       " 'Sierra Leone',\n",
       " 'San Marino',\n",
       " 'Senegal',\n",
       " 'Somalia',\n",
       " 'Suriname',\n",
       " 'South Sudan',\n",
       " 'São Tomé and Príncipe',\n",
       " 'El Salvador',\n",
       " 'Sint Maarten',\n",
       " 'Syria',\n",
       " 'Swaziland',\n",
       " 'Turks and Caicos Islands',\n",
       " 'Chad',\n",
       " 'French Southern Territories',\n",
       " 'Togo',\n",
       " 'Thailand',\n",
       " 'Tajikistan',\n",
       " 'Tokelau',\n",
       " 'East Timor',\n",
       " 'Turkmenistan',\n",
       " 'Tunisia',\n",
       " 'Tonga',\n",
       " 'Turkey',\n",
       " 'Trinidad and Tobago',\n",
       " 'Tuvalu',\n",
       " 'Taiwan',\n",
       " 'Tanzania',\n",
       " 'Ukraine',\n",
       " 'Uganda',\n",
       " 'U.S. Minor Outlying Islands',\n",
       " 'United States',\n",
       " 'Uruguay',\n",
       " 'Uzbekistan',\n",
       " 'Vatican City',\n",
       " 'Saint Vincent and the Grenadines',\n",
       " 'Venezuela',\n",
       " 'British Virgin Islands',\n",
       " 'U.S. Virgin Islands',\n",
       " 'Vietnam',\n",
       " 'Vanuatu',\n",
       " 'Wallis and Futuna',\n",
       " 'Samoa',\n",
       " 'Kosovo',\n",
       " 'Yemen',\n",
       " 'Mayotte',\n",
       " 'South Africa',\n",
       " 'Zambia',\n",
       " 'Zimbabwe']"
      ]
     },
     "execution_count": 82,
     "metadata": {},
     "output_type": "execute_result"
    }
   ],
   "source": [
    "countries"
   ]
  },
  {
   "cell_type": "code",
   "execution_count": 83,
   "id": "bb922348-53c4-4bb4-a380-17a5b3c51499",
   "metadata": {},
   "outputs": [
    {
     "data": {
      "text/plain": [
       "'Andorra la Vella'"
      ]
     },
     "execution_count": 83,
     "metadata": {},
     "output_type": "execute_result"
    }
   ],
   "source": [
    "country_capital = driver.find_elements(By.CLASS_NAME, \"country-capital\")\n",
    "country_capital[0].text"
   ]
  },
  {
   "cell_type": "code",
   "execution_count": 84,
   "id": "e6063a8e-2e68-441b-a25f-b83fd1cf3d33",
   "metadata": {},
   "outputs": [
    {
     "data": {
      "text/plain": [
       "'84000'"
      ]
     },
     "execution_count": 84,
     "metadata": {},
     "output_type": "execute_result"
    }
   ],
   "source": [
    "country_population = driver.find_elements(By.CLASS_NAME, \"country-population\")\n",
    "country_population[0].text"
   ]
  },
  {
   "cell_type": "code",
   "execution_count": 85,
   "id": "5109d777-276f-4a74-bb2f-ae75d797d035",
   "metadata": {},
   "outputs": [
    {
     "data": {
      "text/plain": [
       "'468.0'"
      ]
     },
     "execution_count": 85,
     "metadata": {},
     "output_type": "execute_result"
    }
   ],
   "source": [
    "country_area = driver.find_elements(By.CLASS_NAME, \"country-area\")\n",
    "country_area[0].text"
   ]
  },
  {
   "cell_type": "code",
   "execution_count": 86,
   "id": "0dffd3d4-94c3-4257-b96c-7f4fdb1577b4",
   "metadata": {},
   "outputs": [],
   "source": [
    "def get_country_elements(class_name):\n",
    "    list_elements = []\n",
    "    country_elements = driver.find_elements(By.CLASS_NAME, class_name)\n",
    "    \n",
    "    for item in country_elements:\n",
    "        list_elements.append(item.text)\n",
    "    return list_elements\n",
    "    "
   ]
  },
  {
   "cell_type": "code",
   "execution_count": 93,
   "id": "95c4caaa-a15c-4458-b56e-4ed456b6a884",
   "metadata": {},
   "outputs": [
    {
     "ename": "TypeError",
     "evalue": "eval() arg 1 must be a string, bytes or code object",
     "output_type": "error",
     "traceback": [
      "\u001b[1;31m---------------------------------------------------------------------------\u001b[0m",
      "\u001b[1;31mTypeError\u001b[0m                                 Traceback (most recent call last)",
      "Cell \u001b[1;32mIn[93], line 2\u001b[0m\n\u001b[0;32m      1\u001b[0m country_capital \u001b[38;5;241m=\u001b[39m get_country_elements(\u001b[38;5;124m\"\u001b[39m\u001b[38;5;124mcountry-capital\u001b[39m\u001b[38;5;124m\"\u001b[39m)\n\u001b[1;32m----> 2\u001b[0m country_population \u001b[38;5;241m=\u001b[39m \u001b[38;5;28;43meval\u001b[39;49m\u001b[43m(\u001b[49m\u001b[43mget_country_elements\u001b[49m\u001b[43m(\u001b[49m\u001b[38;5;124;43m\"\u001b[39;49m\u001b[38;5;124;43mcountry-population\u001b[39;49m\u001b[38;5;124;43m\"\u001b[39;49m\u001b[43m)\u001b[49m\u001b[43m)\u001b[49m\n\u001b[0;32m      3\u001b[0m country_area \u001b[38;5;241m=\u001b[39m get_country_elements(\u001b[38;5;124m\"\u001b[39m\u001b[38;5;124mcountry-area\u001b[39m\u001b[38;5;124m\"\u001b[39m)\n",
      "\u001b[1;31mTypeError\u001b[0m: eval() arg 1 must be a string, bytes or code object"
     ]
    }
   ],
   "source": [
    "country_capital = get_country_elements(\"country-capital\")\n",
    "country_population = eval(get_country_elements(\"country-population\"))\n",
    "country_area = get_country_elements(\"country-area\")"
   ]
  },
  {
   "cell_type": "code",
   "execution_count": null,
   "id": "e8ac3ee4-54b0-4a37-ad74-922b315d8ea7",
   "metadata": {},
   "outputs": [],
   "source": [
    "country_population "
   ]
  },
  {
   "cell_type": "code",
   "execution_count": null,
   "id": "31602bbb-46a0-4950-a21d-129777487871",
   "metadata": {},
   "outputs": [],
   "source": []
  }
 ],
 "metadata": {
  "kernelspec": {
   "display_name": "Python 3 (ipykernel)",
   "language": "python",
   "name": "python3"
  },
  "language_info": {
   "codemirror_mode": {
    "name": "ipython",
    "version": 3
   },
   "file_extension": ".py",
   "mimetype": "text/x-python",
   "name": "python",
   "nbconvert_exporter": "python",
   "pygments_lexer": "ipython3",
   "version": "3.10.11"
  }
 },
 "nbformat": 4,
 "nbformat_minor": 5
}
