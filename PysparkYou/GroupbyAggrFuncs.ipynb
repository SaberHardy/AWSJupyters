{
 "cells": [
  {
   "cell_type": "code",
   "execution_count": 6,
   "id": "239ac0fd-f8da-4847-b4d0-10175325b6de",
   "metadata": {},
   "outputs": [],
   "source": [
    "from pyspark.sql import SparkSession"
   ]
  },
  {
   "cell_type": "code",
   "execution_count": 7,
   "id": "7b82402e-feed-4d2d-8427-4cae552a3aeb",
   "metadata": {},
   "outputs": [
    {
     "data": {
      "text/html": [
       "\n",
       "            <div>\n",
       "                <p><b>SparkSession - in-memory</b></p>\n",
       "                \n",
       "        <div>\n",
       "            <p><b>SparkContext</b></p>\n",
       "\n",
       "            <p><a href=\"http://LAPTOP-1ZXRST2-USER:4041\">Spark UI</a></p>\n",
       "\n",
       "            <dl>\n",
       "              <dt>Version</dt>\n",
       "                <dd><code>v3.5.0</code></dd>\n",
       "              <dt>Master</dt>\n",
       "                <dd><code>local[*]</code></dd>\n",
       "              <dt>AppName</dt>\n",
       "                <dd><code>Aggregation</code></dd>\n",
       "            </dl>\n",
       "        </div>\n",
       "        \n",
       "            </div>\n",
       "        "
      ],
      "text/plain": [
       "<pyspark.sql.session.SparkSession at 0x22621964c40>"
      ]
     },
     "execution_count": 7,
     "metadata": {},
     "output_type": "execute_result"
    }
   ],
   "source": [
    "spark = SparkSession.builder.appName(\"Aggregation\").getOrCreate()\n",
    "spark"
   ]
  },
  {
   "cell_type": "code",
   "execution_count": 8,
   "id": "a4cb40c2-3dea-4af9-ac51-bf0a680414d8",
   "metadata": {},
   "outputs": [
    {
     "name": "stdout",
     "output_type": "stream",
     "text": [
      "+---------------+-----------+------+\n",
      "|           name| department|salary|\n",
      "+---------------+-----------+------+\n",
      "|       John Doe|Engineering| 80000|\n",
      "|      Mia Clark|  Marketing| 65000|\n",
      "| Robert Johnson|    Finance| 75000|\n",
      "|    Emily Davis|         HR| 70000|\n",
      "|  Michael Brown|Engineering| 85000|\n",
      "| Samantha White|  Marketing| 70000|\n",
      "|Christopher Lee|    Finance| 72000|\n",
      "|      Mia Clark|         HR| 68000|\n",
      "| Samantha White|Engineering| 90000|\n",
      "|  Sophia Wilson|  Marketing| 72000|\n",
      "|    David Moore|    Finance| 78000|\n",
      "|    Emily Davis|         HR| 71000|\n",
      "| Samantha White|Engineering| 82000|\n",
      "|      Mia Clark|  Marketing| 69000|\n",
      "|    Emily Davis|    Finance| 77000|\n",
      "+---------------+-----------+------+\n",
      "\n"
     ]
    }
   ],
   "source": [
    "## Read CSV file\n",
    "df = spark.read.csv('data/aggregateFunctions.csv', header=True, inferSchema=True)\n",
    "df.show()"
   ]
  },
  {
   "cell_type": "code",
   "execution_count": 9,
   "id": "250f2ad8-70c0-4f7a-8cdf-f04e3685b9ac",
   "metadata": {},
   "outputs": [
    {
     "name": "stdout",
     "output_type": "stream",
     "text": [
      "root\n",
      " |-- name: string (nullable = true)\n",
      " |-- department: string (nullable = true)\n",
      " |-- salary: integer (nullable = true)\n",
      "\n"
     ]
    }
   ],
   "source": [
    "df.printSchema()"
   ]
  },
  {
   "cell_type": "code",
   "execution_count": 10,
   "id": "6d2ae69f-ba97-4c94-ad09-74a8226d6cb5",
   "metadata": {},
   "outputs": [
    {
     "name": "stdout",
     "output_type": "stream",
     "text": [
      "+---------------+-----------+\n",
      "|           name|sum(salary)|\n",
      "+---------------+-----------+\n",
      "|    Emily Davis|     218000|\n",
      "| Robert Johnson|      75000|\n",
      "|      Mia Clark|     202000|\n",
      "|  Sophia Wilson|      72000|\n",
      "|  Michael Brown|      85000|\n",
      "|       John Doe|      80000|\n",
      "|    David Moore|      78000|\n",
      "| Samantha White|     242000|\n",
      "|Christopher Lee|      72000|\n",
      "+---------------+-----------+\n",
      "\n"
     ]
    }
   ],
   "source": [
    "# GroupBy\n",
    "# This one is return the sum of values that the same name and grouped together and displayed\n",
    "df.groupBy(\"name\").sum().show()"
   ]
  },
  {
   "cell_type": "code",
   "execution_count": 11,
   "id": "26a752c0-99b7-4b7c-88ac-8a5c85fe1125",
   "metadata": {},
   "outputs": [
    {
     "name": "stdout",
     "output_type": "stream",
     "text": [
      "+-----------+-----------+\n",
      "| department|max(salary)|\n",
      "+-----------+-----------+\n",
      "|Engineering|      90000|\n",
      "|         HR|      71000|\n",
      "|    Finance|      78000|\n",
      "|  Marketing|      72000|\n",
      "+-----------+-----------+\n",
      "\n"
     ]
    }
   ],
   "source": [
    "# Group by department and Find the maximum salary\n",
    "df.groupBy(\"department\").max().show()"
   ]
  },
  {
   "cell_type": "markdown",
   "id": "2d27ae1a-43ac-48d4-8558-2fdc3c6dee06",
   "metadata": {},
   "source": [
    "# Know who is getting the maximum salary in the departement"
   ]
  },
  {
   "cell_type": "code",
   "execution_count": 19,
   "id": "0c93b869-5c07-48ec-81c2-270ee2027537",
   "metadata": {},
   "outputs": [
    {
     "name": "stdout",
     "output_type": "stream",
     "text": [
      "+---------------+-----------+-----------+\n",
      "|           Name| department|max(salary)|\n",
      "+---------------+-----------+-----------+\n",
      "| Samantha White|  Marketing|      70000|\n",
      "|  Michael Brown|Engineering|      85000|\n",
      "| Robert Johnson|    Finance|      75000|\n",
      "|    Emily Davis|    Finance|      77000|\n",
      "|    Emily Davis|         HR|      71000|\n",
      "|       John Doe|Engineering|      80000|\n",
      "|    David Moore|    Finance|      78000|\n",
      "|  Sophia Wilson|  Marketing|      72000|\n",
      "| Samantha White|Engineering|      90000|\n",
      "|      Mia Clark|         HR|      68000|\n",
      "|Christopher Lee|    Finance|      72000|\n",
      "|      Mia Clark|  Marketing|      69000|\n",
      "+---------------+-----------+-----------+\n",
      "\n"
     ]
    }
   ],
   "source": [
    "df.groupBy([\"Name\", \"department\"]).max().show()"
   ]
  },
  {
   "cell_type": "code",
   "execution_count": 12,
   "id": "27cc5019-7cce-480c-84d8-ce689cb26e1c",
   "metadata": {},
   "outputs": [
    {
     "name": "stdout",
     "output_type": "stream",
     "text": [
      "+-----------+-----+\n",
      "| Department|count|\n",
      "+-----------+-----+\n",
      "|Engineering|    4|\n",
      "|         HR|    3|\n",
      "|    Finance|    4|\n",
      "|  Marketing|    4|\n",
      "+-----------+-----+\n",
      "\n"
     ]
    }
   ],
   "source": [
    "# Calculate the number of people in specific departement\n",
    "df.groupBy(\"Department\").count().show()"
   ]
  },
  {
   "cell_type": "markdown",
   "id": "765ba34c-0a12-4d1f-b4b4-0a2cbce1c73c",
   "metadata": {},
   "source": [
    "# Retrieve Duplicates"
   ]
  },
  {
   "cell_type": "code",
   "execution_count": 13,
   "id": "147f4b14-e57c-4cca-904b-c150d6b1cae3",
   "metadata": {},
   "outputs": [
    {
     "name": "stdout",
     "output_type": "stream",
     "text": [
      "+---------------+-----+\n",
      "|           name|count|\n",
      "+---------------+-----+\n",
      "|    Emily Davis|    3|\n",
      "| Robert Johnson|    1|\n",
      "|      Mia Clark|    3|\n",
      "|  Sophia Wilson|    1|\n",
      "|  Michael Brown|    1|\n",
      "|       John Doe|    1|\n",
      "|    David Moore|    1|\n",
      "| Samantha White|    3|\n",
      "|Christopher Lee|    1|\n",
      "+---------------+-----+\n",
      "\n"
     ]
    }
   ],
   "source": [
    "df.groupBy(\"name\").count().show()"
   ]
  },
  {
   "cell_type": "code",
   "execution_count": 14,
   "id": "cfc31b81-c146-45da-aadb-03cad7dc0641",
   "metadata": {},
   "outputs": [
    {
     "name": "stdout",
     "output_type": "stream",
     "text": [
      "+--------------+-----+\n",
      "|          name|count|\n",
      "+--------------+-----+\n",
      "|   Emily Davis|    3|\n",
      "|     Mia Clark|    3|\n",
      "|Samantha White|    3|\n",
      "+--------------+-----+\n",
      "\n"
     ]
    }
   ],
   "source": [
    "from pyspark.sql.functions import col\n",
    "dupl_df = df.groupBy(\"name\").count()\n",
    "final_duplication = dupl_df.filter(col(\"count\") > 1)\n",
    "final_duplication.show()"
   ]
  },
  {
   "cell_type": "markdown",
   "id": "6785b99d-df46-43a4-969f-af04a000b603",
   "metadata": {},
   "source": [
    "# Retrun the Sum of specific Column (Aggregation)"
   ]
  },
  {
   "cell_type": "code",
   "execution_count": 15,
   "id": "d5c2371d-593d-4904-974c-f458c0b9723a",
   "metadata": {},
   "outputs": [
    {
     "name": "stdout",
     "output_type": "stream",
     "text": [
      "+-----------+\n",
      "|sum(Salary)|\n",
      "+-----------+\n",
      "|    1124000|\n",
      "+-----------+\n",
      "\n"
     ]
    }
   ],
   "source": [
    "agg_sum = df.agg({\"Salary\": \"sum\"})\n",
    "agg_sum.show()"
   ]
  },
  {
   "cell_type": "code",
   "execution_count": null,
   "id": "144484eb-70d2-4aad-91ab-82bd73f232e9",
   "metadata": {},
   "outputs": [],
   "source": []
  }
 ],
 "metadata": {
  "kernelspec": {
   "display_name": "Python 3 (ipykernel)",
   "language": "python",
   "name": "python3"
  },
  "language_info": {
   "codemirror_mode": {
    "name": "ipython",
    "version": 3
   },
   "file_extension": ".py",
   "mimetype": "text/x-python",
   "name": "python",
   "nbconvert_exporter": "python",
   "pygments_lexer": "ipython3",
   "version": "3.10.11"
  }
 },
 "nbformat": 4,
 "nbformat_minor": 5
}
