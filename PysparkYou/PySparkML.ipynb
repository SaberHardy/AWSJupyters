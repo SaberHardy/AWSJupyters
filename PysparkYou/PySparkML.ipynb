{
 "cells": [
  {
   "cell_type": "code",
   "execution_count": 1,
   "id": "f674552f-a9b0-4622-bcd1-107ff86093ea",
   "metadata": {},
   "outputs": [
    {
     "data": {
      "text/html": [
       "\n",
       "            <div>\n",
       "                <p><b>SparkSession - in-memory</b></p>\n",
       "                \n",
       "        <div>\n",
       "            <p><b>SparkContext</b></p>\n",
       "\n",
       "            <p><a href=\"http://LAPTOP-1ZXRST2-USER:4040\">Spark UI</a></p>\n",
       "\n",
       "            <dl>\n",
       "              <dt>Version</dt>\n",
       "                <dd><code>v3.5.0</code></dd>\n",
       "              <dt>Master</dt>\n",
       "                <dd><code>local[*]</code></dd>\n",
       "              <dt>AppName</dt>\n",
       "                <dd><code>MachineLearningModel</code></dd>\n",
       "            </dl>\n",
       "        </div>\n",
       "        \n",
       "            </div>\n",
       "        "
      ],
      "text/plain": [
       "<pyspark.sql.session.SparkSession at 0x2842dfafdf0>"
      ]
     },
     "execution_count": 1,
     "metadata": {},
     "output_type": "execute_result"
    }
   ],
   "source": [
    "from pyspark.sql import SparkSession\n",
    "spark = SparkSession.builder.appName(\"MachineLearningModel\").getOrCreate()\n",
    "spark"
   ]
  },
  {
   "cell_type": "code",
   "execution_count": 2,
   "id": "7d3c178b-326e-4aca-b1e6-687d0ccf78dc",
   "metadata": {},
   "outputs": [
    {
     "data": {
      "text/plain": [
       "DataFrame[Name: string, Age: int, Experience: int, Salary: int]"
      ]
     },
     "execution_count": 2,
     "metadata": {},
     "output_type": "execute_result"
    }
   ],
   "source": [
    "data = spark.read.csv(\"data/experienceSalary.csv\", header=True, inferSchema=True)\n",
    "data"
   ]
  },
  {
   "cell_type": "code",
   "execution_count": 4,
   "id": "359c3654-95e5-4ed4-9a9a-895e8d33e7e1",
   "metadata": {},
   "outputs": [
    {
     "name": "stdout",
     "output_type": "stream",
     "text": [
      "+----------------+---+----------+------+\n",
      "|            Name|Age|Experience|Salary|\n",
      "+----------------+---+----------+------+\n",
      "|        John Doe| 30|         5| 70000|\n",
      "|      Jane Smith| 28|         3| 60000|\n",
      "| Michael Johnson| 35|         8| 90000|\n",
      "|     Emily Davis| 25|         2| 50000|\n",
      "| Christopher Lee| 40|        12|120000|\n",
      "|  Samantha White| 32|         6| 75000|\n",
      "|      Daniel Kim| 28|         4| 65000|\n",
      "|Amanda Rodriguez| 27|         3| 58000|\n",
      "|     David Brown| 38|        10|100000|\n",
      "|     Emma Taylor| 29|         5| 72000|\n",
      "|    Joshua Moore| 33|         7| 80000|\n",
      "|   Olivia Harris| 26|         3| 55000|\n",
      "|  Matthew Turner| 45|        15|130000|\n",
      "|   Sophia Miller| 31|         6| 72000|\n",
      "|   Andrew Wilson| 34|         8| 85000|\n",
      "|  Grace Martinez| 23|         1| 48000|\n",
      "|  Robert Jackson| 36|         9| 95000|\n",
      "|    Ava Anderson| 30|         4| 68000|\n",
      "|    Ethan Taylor| 29|         6| 72000|\n",
      "|   Isabella Hall| 27|         5| 70000|\n",
      "+----------------+---+----------+------+\n",
      "\n"
     ]
    }
   ],
   "source": [
    "data.show() "
   ]
  },
  {
   "cell_type": "code",
   "execution_count": 4,
   "id": "2773d76d-1459-4cd2-a86b-3eab0a31099a",
   "metadata": {},
   "outputs": [
    {
     "name": "stdout",
     "output_type": "stream",
     "text": [
      "root\n",
      " |-- Name: string (nullable = true)\n",
      " |-- Age: integer (nullable = true)\n",
      " |-- Experience: integer (nullable = true)\n",
      " |-- Salary: integer (nullable = true)\n",
      "\n"
     ]
    }
   ],
   "source": [
    "data.printSchema()"
   ]
  },
  {
   "cell_type": "markdown",
   "id": "ea9d4e9b-d8ed-476d-bc9e-41fdb7d31b8e",
   "metadata": {},
   "source": [
    "## Stating ML Algorithm"
   ]
  },
  {
   "cell_type": "markdown",
   "id": "b970d9d8-7bc2-429f-a784-827d42df597b",
   "metadata": {},
   "source": [
    "#### 1- Group the input features"
   ]
  },
  {
   "cell_type": "code",
   "execution_count": 5,
   "id": "435c3112-a2c7-4933-9545-97b6486c3ebf",
   "metadata": {},
   "outputs": [],
   "source": [
    "inputColumns = ['Age','Experience']"
   ]
  },
  {
   "cell_type": "markdown",
   "id": "2235dd1a-b219-4c8f-84b0-1ddf333c42cb",
   "metadata": {},
   "source": [
    "#### 2- Import and group the input features that we will use"
   ]
  },
  {
   "cell_type": "code",
   "execution_count": 6,
   "id": "c9637acb-a072-4122-b0d1-8b58e9ca4dfd",
   "metadata": {},
   "outputs": [
    {
     "data": {
      "text/plain": [
       "VectorAssembler_d630e54c4889"
      ]
     },
     "execution_count": 6,
     "metadata": {},
     "output_type": "execute_result"
    }
   ],
   "source": [
    "from pyspark.ml.feature import VectorAssembler\n",
    "fa = VectorAssembler(inputCols=inputColumns, outputCol=\"IndependentFeatures\")\n",
    "fa"
   ]
  },
  {
   "cell_type": "code",
   "execution_count": 8,
   "id": "b939c29d-f913-4e69-9728-120fc2fe9cb0",
   "metadata": {},
   "outputs": [
    {
     "name": "stdout",
     "output_type": "stream",
     "text": [
      "+----------------+---+----------+------+-------------------+\n",
      "|            Name|Age|Experience|Salary|IndependentFeatures|\n",
      "+----------------+---+----------+------+-------------------+\n",
      "|        John Doe| 30|         5| 70000|         [30.0,5.0]|\n",
      "|      Jane Smith| 28|         3| 60000|         [28.0,3.0]|\n",
      "| Michael Johnson| 35|         8| 90000|         [35.0,8.0]|\n",
      "|     Emily Davis| 25|         2| 50000|         [25.0,2.0]|\n",
      "| Christopher Lee| 40|        12|120000|        [40.0,12.0]|\n",
      "|  Samantha White| 32|         6| 75000|         [32.0,6.0]|\n",
      "|      Daniel Kim| 28|         4| 65000|         [28.0,4.0]|\n",
      "|Amanda Rodriguez| 27|         3| 58000|         [27.0,3.0]|\n",
      "|     David Brown| 38|        10|100000|        [38.0,10.0]|\n",
      "|     Emma Taylor| 29|         5| 72000|         [29.0,5.0]|\n",
      "|    Joshua Moore| 33|         7| 80000|         [33.0,7.0]|\n",
      "|   Olivia Harris| 26|         3| 55000|         [26.0,3.0]|\n",
      "|  Matthew Turner| 45|        15|130000|        [45.0,15.0]|\n",
      "|   Sophia Miller| 31|         6| 72000|         [31.0,6.0]|\n",
      "|   Andrew Wilson| 34|         8| 85000|         [34.0,8.0]|\n",
      "|  Grace Martinez| 23|         1| 48000|         [23.0,1.0]|\n",
      "|  Robert Jackson| 36|         9| 95000|         [36.0,9.0]|\n",
      "|    Ava Anderson| 30|         4| 68000|         [30.0,4.0]|\n",
      "|    Ethan Taylor| 29|         6| 72000|         [29.0,6.0]|\n",
      "|   Isabella Hall| 27|         5| 70000|         [27.0,5.0]|\n",
      "+----------------+---+----------+------+-------------------+\n",
      "\n"
     ]
    }
   ],
   "source": [
    "output = fa.transform(data)\n",
    "output.show()"
   ]
  },
  {
   "cell_type": "code",
   "execution_count": 9,
   "id": "c4bc73d3-b8fe-4e63-94ab-535ca6e43078",
   "metadata": {},
   "outputs": [
    {
     "name": "stdout",
     "output_type": "stream",
     "text": [
      "+-------------------+------+\n",
      "|IndependentFeatures|Salary|\n",
      "+-------------------+------+\n",
      "|         [30.0,5.0]| 70000|\n",
      "|         [28.0,3.0]| 60000|\n",
      "|         [35.0,8.0]| 90000|\n",
      "|         [25.0,2.0]| 50000|\n",
      "|        [40.0,12.0]|120000|\n",
      "|         [32.0,6.0]| 75000|\n",
      "|         [28.0,4.0]| 65000|\n",
      "|         [27.0,3.0]| 58000|\n",
      "|        [38.0,10.0]|100000|\n",
      "|         [29.0,5.0]| 72000|\n",
      "|         [33.0,7.0]| 80000|\n",
      "|         [26.0,3.0]| 55000|\n",
      "|        [45.0,15.0]|130000|\n",
      "|         [31.0,6.0]| 72000|\n",
      "|         [34.0,8.0]| 85000|\n",
      "|         [23.0,1.0]| 48000|\n",
      "|         [36.0,9.0]| 95000|\n",
      "|         [30.0,4.0]| 68000|\n",
      "|         [29.0,6.0]| 72000|\n",
      "|         [27.0,5.0]| 70000|\n",
      "+-------------------+------+\n",
      "\n"
     ]
    }
   ],
   "source": [
    "final_data = output.select(\"IndependentFeatures\", \"Salary\")\n",
    "final_data.show()"
   ]
  },
  {
   "cell_type": "markdown",
   "id": "e51cb2ab-14a6-44d9-b23d-ce0bd852358f",
   "metadata": {},
   "source": [
    "### Train and Split the data"
   ]
  },
  {
   "cell_type": "code",
   "execution_count": 10,
   "id": "dab7d9f5-bedc-419f-8551-e05583df1104",
   "metadata": {},
   "outputs": [],
   "source": [
    "from pyspark.ml.regression import LinearRegression"
   ]
  },
  {
   "cell_type": "code",
   "execution_count": 11,
   "id": "cd13fabb-7c8a-4519-bec4-b4445155651c",
   "metadata": {},
   "outputs": [
    {
     "data": {
      "text/plain": [
       "LinearRegressionModel: uid=LinearRegression_db026570f835, numFeatures=2"
      ]
     },
     "execution_count": 11,
     "metadata": {},
     "output_type": "execute_result"
    }
   ],
   "source": [
    "train_data, test_data = final_data.randomSplit([0.75, 0.25])\n",
    "regressor=LinearRegression(featuresCol='IndependentFeatures', labelCol='Salary')\n",
    "regressor=regressor.fit(train_data)\n",
    "regressor"
   ]
  },
  {
   "cell_type": "code",
   "execution_count": 22,
   "id": "5bc011b3-6945-4267-8c37-6c9a99a5390a",
   "metadata": {},
   "outputs": [
    {
     "name": "stdout",
     "output_type": "stream",
     "text": [
      "+-------------------+------+\n",
      "|IndependentFeatures|Salary|\n",
      "+-------------------+------+\n",
      "|         [23.0,1.0]| 48000|\n",
      "|         [26.0,3.0]| 55000|\n",
      "|         [27.0,3.0]| 58000|\n",
      "|         [28.0,4.0]| 65000|\n",
      "|         [29.0,5.0]| 72000|\n",
      "|         [29.0,6.0]| 72000|\n",
      "|         [30.0,4.0]| 68000|\n",
      "|         [30.0,5.0]| 70000|\n",
      "|         [33.0,7.0]| 80000|\n",
      "|         [34.0,8.0]| 85000|\n",
      "|         [35.0,8.0]| 90000|\n",
      "|         [36.0,9.0]| 95000|\n",
      "|        [38.0,10.0]|100000|\n",
      "|        [40.0,12.0]|120000|\n",
      "+-------------------+------+\n",
      "\n",
      "+-------------------+------+\n",
      "|IndependentFeatures|Salary|\n",
      "+-------------------+------+\n",
      "|         [25.0,2.0]| 50000|\n",
      "|         [27.0,5.0]| 70000|\n",
      "|         [28.0,3.0]| 60000|\n",
      "|         [31.0,6.0]| 72000|\n",
      "|         [32.0,6.0]| 75000|\n",
      "|        [45.0,15.0]|130000|\n",
      "+-------------------+------+\n",
      "\n"
     ]
    },
    {
     "data": {
      "text/plain": [
       "(None, None)"
      ]
     },
     "execution_count": 22,
     "metadata": {},
     "output_type": "execute_result"
    }
   ],
   "source": [
    "train_data.show(), test_data.show()"
   ]
  },
  {
   "cell_type": "code",
   "execution_count": 23,
   "id": "dfb2c5b3-81fb-4c59-b51a-4affec68fa80",
   "metadata": {},
   "outputs": [
    {
     "data": {
      "text/plain": [
       "DenseVector([1261.7762, 4314.3855])"
      ]
     },
     "execution_count": 23,
     "metadata": {},
     "output_type": "execute_result"
    }
   ],
   "source": [
    "regressor.coefficients"
   ]
  },
  {
   "cell_type": "code",
   "execution_count": 24,
   "id": "643e03b7-04b8-436b-9a3b-008f871bc7e3",
   "metadata": {},
   "outputs": [
    {
     "data": {
      "text/plain": [
       "11329.9460146008"
      ]
     },
     "execution_count": 24,
     "metadata": {},
     "output_type": "execute_result"
    }
   ],
   "source": [
    "regressor.intercept"
   ]
  },
  {
   "cell_type": "code",
   "execution_count": 27,
   "id": "21763e76-5309-4a07-9f3e-48e4f42d6b48",
   "metadata": {},
   "outputs": [
    {
     "name": "stdout",
     "output_type": "stream",
     "text": [
      "+-------------------+------+------------------+\n",
      "|IndependentFeatures|Salary|        prediction|\n",
      "+-------------------+------+------------------+\n",
      "|         [25.0,2.0]| 50000| 51503.12268445009|\n",
      "|         [27.0,5.0]| 70000| 66969.83169259998|\n",
      "|         [28.0,3.0]| 60000| 59602.83687943309|\n",
      "|         [31.0,6.0]| 72000| 76331.32211283999|\n",
      "|         [32.0,6.0]| 75000| 77593.09833809701|\n",
      "|        [45.0,15.0]|130000|132825.65893934577|\n",
      "+-------------------+------+------------------+\n",
      "\n"
     ]
    }
   ],
   "source": [
    "predected_results = regressor.evaluate(test_data)\n",
    "predected_results.predictions.show()"
   ]
  },
  {
   "cell_type": "code",
   "execution_count": 32,
   "id": "00f52307-eb73-4ea5-b518-cffa0c44d39a",
   "metadata": {},
   "outputs": [
    {
     "name": "stdout",
     "output_type": "stream",
     "text": [
      "2446.755583783299\n"
     ]
    }
   ],
   "source": [
    "print(predected_results.meanAbsoluteError)"
   ]
  },
  {
   "cell_type": "code",
   "execution_count": null,
   "id": "0a382428-f9a3-4fab-bb0a-b8685069f704",
   "metadata": {},
   "outputs": [],
   "source": [
    "# 01:30:0"
   ]
  }
 ],
 "metadata": {
  "kernelspec": {
   "display_name": "Python 3 (ipykernel)",
   "language": "python",
   "name": "python3"
  },
  "language_info": {
   "codemirror_mode": {
    "name": "ipython",
    "version": 3
   },
   "file_extension": ".py",
   "mimetype": "text/x-python",
   "name": "python",
   "nbconvert_exporter": "python",
   "pygments_lexer": "ipython3",
   "version": "3.10.11"
  }
 },
 "nbformat": 4,
 "nbformat_minor": 5
}
