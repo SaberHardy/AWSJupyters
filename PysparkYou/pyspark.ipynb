{
 "cells": [
  {
   "cell_type": "code",
   "execution_count": 1,
   "id": "88dd432d-99a3-4191-99bf-3ca0b24ff91a",
   "metadata": {},
   "outputs": [],
   "source": [
    "import pyspark\n",
    "from pyspark.sql import SparkSession"
   ]
  },
  {
   "cell_type": "code",
   "execution_count": 2,
   "id": "47a90877-2ea4-4bc7-9717-af3d3cd41ead",
   "metadata": {},
   "outputs": [],
   "source": [
    "spark = SparkSession.builder.appName('SparkAppExample').getOrCreate()"
   ]
  },
  {
   "cell_type": "code",
   "execution_count": 3,
   "id": "e54fb5b0-570f-4717-92b9-0ebb6af60633",
   "metadata": {},
   "outputs": [
    {
     "data": {
      "text/html": [
       "\n",
       "            <div>\n",
       "                <p><b>SparkSession - in-memory</b></p>\n",
       "                \n",
       "        <div>\n",
       "            <p><b>SparkContext</b></p>\n",
       "\n",
       "            <p><a href=\"http://LAPTOP-1ZXRST2-USER:4040\">Spark UI</a></p>\n",
       "\n",
       "            <dl>\n",
       "              <dt>Version</dt>\n",
       "                <dd><code>v3.5.0</code></dd>\n",
       "              <dt>Master</dt>\n",
       "                <dd><code>local[*]</code></dd>\n",
       "              <dt>AppName</dt>\n",
       "                <dd><code>SparkAppExample</code></dd>\n",
       "            </dl>\n",
       "        </div>\n",
       "        \n",
       "            </div>\n",
       "        "
      ],
      "text/plain": [
       "<pyspark.sql.session.SparkSession at 0x1351badc9d0>"
      ]
     },
     "execution_count": 3,
     "metadata": {},
     "output_type": "execute_result"
    }
   ],
   "source": [
    "spark"
   ]
  },
  {
   "cell_type": "code",
   "execution_count": 4,
   "id": "8482e78c-b8d0-4c00-8f6a-be9cfd8b466b",
   "metadata": {},
   "outputs": [],
   "source": [
    "df = spark.read.csv(\"data/data.csv\")"
   ]
  },
  {
   "cell_type": "code",
   "execution_count": 5,
   "id": "436699ea-7385-46d7-8c5a-fe1850beb9a4",
   "metadata": {},
   "outputs": [
    {
     "name": "stdout",
     "output_type": "stream",
     "text": [
      "+---+--------+----------+------------+------+\n",
      "|_c0|     _c1|       _c2|         _c3|   _c4|\n",
      "+---+--------+----------+------------+------+\n",
      "| id|    name|birth_date|  occupation|gender|\n",
      "|  1|    John|  05/23/85|      Doctor|     M|\n",
      "|  2|    Mary|  09/12/92|    Engineer|     F|\n",
      "|  3|     Joe|  02/08/78|      Lawyer|     M|\n",
      "|  4|    Anna|  07/31/89|  Programmer|     F|\n",
      "|  5|    Paul|  11/17/96|     Student|     M|\n",
      "|  6|  Renata|  04/02/81|       Nurse|     F|\n",
      "|  7|    Luke|  08/19/93|   Architect|     M|\n",
      "|  8|Fernanda|  12/27/75|Psychologist|     F|\n",
      "|  9|     Gus|  03/14/90|Veterinarian|     M|\n",
      "| 10|   Julie|  06/21/82|  Programmer|     F|\n",
      "| 11| Raphael|  10/09/95|     Student|     M|\n",
      "| 12|   Carol|  01/25/87|  Journalist|     F|\n",
      "| 13| Matthew|  05/07/79|Entrepreneur|     M|\n",
      "| 14|   Bruna|  08/01/94|    Designer|     F|\n",
      "| 15|   Fabio|  12/18/86|  Pharmacist|     M|\n",
      "| 16| Camille|  02/06/80|     Teacher|     F|\n",
      "| 17|  Andrew|  06/22/91|    Engineer|     M|\n",
      "| 18| Maryann|  11/13/83|Psychiatrist|     F|\n",
      "| 19|    Pete|  03/30/98|     Student|     M|\n",
      "+---+--------+----------+------------+------+\n",
      "only showing top 20 rows\n",
      "\n"
     ]
    }
   ],
   "source": [
    "df.show()"
   ]
  },
  {
   "cell_type": "code",
   "execution_count": 6,
   "id": "1f029399-36f0-4450-b5d3-aaeddb46b85e",
   "metadata": {},
   "outputs": [
    {
     "name": "stdout",
     "output_type": "stream",
     "text": [
      "+---+--------+----------+------------+------+\n",
      "| id|    name|birth_date|  occupation|gender|\n",
      "+---+--------+----------+------------+------+\n",
      "|  1|    John|  05/23/85|      Doctor|     M|\n",
      "|  2|    Mary|  09/12/92|    Engineer|     F|\n",
      "|  3|     Joe|  02/08/78|      Lawyer|     M|\n",
      "|  4|    Anna|  07/31/89|  Programmer|     F|\n",
      "|  5|    Paul|  11/17/96|     Student|     M|\n",
      "|  6|  Renata|  04/02/81|       Nurse|     F|\n",
      "|  7|    Luke|  08/19/93|   Architect|     M|\n",
      "|  8|Fernanda|  12/27/75|Psychologist|     F|\n",
      "|  9|     Gus|  03/14/90|Veterinarian|     M|\n",
      "| 10|   Julie|  06/21/82|  Programmer|     F|\n",
      "| 11| Raphael|  10/09/95|     Student|     M|\n",
      "| 12|   Carol|  01/25/87|  Journalist|     F|\n",
      "| 13| Matthew|  05/07/79|Entrepreneur|     M|\n",
      "| 14|   Bruna|  08/01/94|    Designer|     F|\n",
      "| 15|   Fabio|  12/18/86|  Pharmacist|     M|\n",
      "| 16| Camille|  02/06/80|     Teacher|     F|\n",
      "| 17|  Andrew|  06/22/91|    Engineer|     M|\n",
      "| 18| Maryann|  11/13/83|Psychiatrist|     F|\n",
      "| 19|    Pete|  03/30/98|     Student|     M|\n",
      "| 20|   Luana|  07/15/76|      Doctor|     F|\n",
      "+---+--------+----------+------------+------+\n",
      "\n"
     ]
    }
   ],
   "source": [
    "# This one is for displaying the columns as it is\n",
    "df = spark.read.option(\"header\", \"true\").csv(\"data/data.csv\", inferSchema=True)\n",
    "df.show()"
   ]
  },
  {
   "cell_type": "code",
   "execution_count": 7,
   "id": "f01fb3e9-c94d-4bc6-a999-66818f3282df",
   "metadata": {},
   "outputs": [
    {
     "name": "stdout",
     "output_type": "stream",
     "text": [
      "root\n",
      " |-- id: integer (nullable = true)\n",
      " |-- name: string (nullable = true)\n",
      " |-- birth_date: string (nullable = true)\n",
      " |-- occupation: string (nullable = true)\n",
      " |-- gender: string (nullable = true)\n",
      "\n"
     ]
    }
   ],
   "source": [
    "# This one is because by default all the values considered as string\n",
    "# We can add \"inferSchema=True\" to reading csv file\n",
    "df.printSchema()"
   ]
  },
  {
   "cell_type": "code",
   "execution_count": 8,
   "id": "fbe32ce7-d3e3-46b6-8ea9-290c4aa74f03",
   "metadata": {},
   "outputs": [
    {
     "data": {
      "text/plain": [
       "['id', 'name', 'birth_date', 'occupation', 'gender']"
      ]
     },
     "execution_count": 8,
     "metadata": {},
     "output_type": "execute_result"
    }
   ],
   "source": [
    "columns = df.columns\n",
    "columns"
   ]
  },
  {
   "cell_type": "code",
   "execution_count": 9,
   "id": "53096652-9bd5-41d7-aa89-3dcaf45e4882",
   "metadata": {},
   "outputs": [
    {
     "data": {
      "text/plain": [
       "[Row(id=1, name='John', birth_date='05/23/85', occupation='Doctor', gender='M'),\n",
       " Row(id=2, name='Mary', birth_date='09/12/92', occupation='Engineer', gender='F'),\n",
       " Row(id=3, name='Joe', birth_date='02/08/78', occupation='Lawyer', gender='M')]"
      ]
     },
     "execution_count": 9,
     "metadata": {},
     "output_type": "execute_result"
    }
   ],
   "source": [
    "df.head(3)"
   ]
  },
  {
   "cell_type": "code",
   "execution_count": 10,
   "id": "cda1ae23-3f9d-4469-943c-92f82ec112f9",
   "metadata": {},
   "outputs": [
    {
     "name": "stdout",
     "output_type": "stream",
     "text": [
      "+---+--------+----------+------------+------+\n",
      "| id|    name|birth_date|  occupation|gender|\n",
      "+---+--------+----------+------------+------+\n",
      "|  1|    John|  05/23/85|      Doctor|     M|\n",
      "|  2|    Mary|  09/12/92|    Engineer|     F|\n",
      "|  3|     Joe|  02/08/78|      Lawyer|     M|\n",
      "|  4|    Anna|  07/31/89|  Programmer|     F|\n",
      "|  5|    Paul|  11/17/96|     Student|     M|\n",
      "|  6|  Renata|  04/02/81|       Nurse|     F|\n",
      "|  7|    Luke|  08/19/93|   Architect|     M|\n",
      "|  8|Fernanda|  12/27/75|Psychologist|     F|\n",
      "|  9|     Gus|  03/14/90|Veterinarian|     M|\n",
      "| 10|   Julie|  06/21/82|  Programmer|     F|\n",
      "| 11| Raphael|  10/09/95|     Student|     M|\n",
      "| 12|   Carol|  01/25/87|  Journalist|     F|\n",
      "| 13| Matthew|  05/07/79|Entrepreneur|     M|\n",
      "| 14|   Bruna|  08/01/94|    Designer|     F|\n",
      "| 15|   Fabio|  12/18/86|  Pharmacist|     M|\n",
      "| 16| Camille|  02/06/80|     Teacher|     F|\n",
      "| 17|  Andrew|  06/22/91|    Engineer|     M|\n",
      "| 18| Maryann|  11/13/83|Psychiatrist|     F|\n",
      "| 19|    Pete|  03/30/98|     Student|     M|\n",
      "| 20|   Luana|  07/15/76|      Doctor|     F|\n",
      "+---+--------+----------+------------+------+\n",
      "\n"
     ]
    }
   ],
   "source": [
    "# Select a column\n",
    "df.show()"
   ]
  },
  {
   "cell_type": "code",
   "execution_count": 11,
   "id": "f06b37e0-02e4-4a77-b9d1-89797961b7e6",
   "metadata": {},
   "outputs": [
    {
     "name": "stdout",
     "output_type": "stream",
     "text": [
      "+--------+------------+\n",
      "|    name|  occupation|\n",
      "+--------+------------+\n",
      "|    John|      Doctor|\n",
      "|    Mary|    Engineer|\n",
      "|     Joe|      Lawyer|\n",
      "|    Anna|  Programmer|\n",
      "|    Paul|     Student|\n",
      "|  Renata|       Nurse|\n",
      "|    Luke|   Architect|\n",
      "|Fernanda|Psychologist|\n",
      "|     Gus|Veterinarian|\n",
      "|   Julie|  Programmer|\n",
      "| Raphael|     Student|\n",
      "|   Carol|  Journalist|\n",
      "| Matthew|Entrepreneur|\n",
      "|   Bruna|    Designer|\n",
      "|   Fabio|  Pharmacist|\n",
      "| Camille|     Teacher|\n",
      "|  Andrew|    Engineer|\n",
      "| Maryann|Psychiatrist|\n",
      "|    Pete|     Student|\n",
      "|   Luana|      Doctor|\n",
      "+--------+------------+\n",
      "\n"
     ]
    }
   ],
   "source": [
    "multi_columns = df.select(['name', 'occupation'])\n",
    "multi_columns.show()"
   ]
  },
  {
   "cell_type": "code",
   "execution_count": 12,
   "id": "1d126608-bd47-49fc-b253-de9757c76689",
   "metadata": {},
   "outputs": [
    {
     "name": "stdout",
     "output_type": "stream",
     "text": [
      "+-------+-----------------+------+----------+------------+------+\n",
      "|summary|               id|  name|birth_date|  occupation|gender|\n",
      "+-------+-----------------+------+----------+------------+------+\n",
      "|  count|               20|    20|        20|          20|    20|\n",
      "|   mean|             10.5|  NULL|      NULL|        NULL|  NULL|\n",
      "| stddev|5.916079783099616|  NULL|      NULL|        NULL|  NULL|\n",
      "|    min|                1|Andrew|  01/25/87|   Architect|     F|\n",
      "|    max|               20|Renata|  12/27/75|Veterinarian|     M|\n",
      "+-------+-----------------+------+----------+------------+------+\n",
      "\n"
     ]
    }
   ],
   "source": [
    "# Describe the dataframe\n",
    "df.describe().show()"
   ]
  },
  {
   "cell_type": "code",
   "execution_count": 13,
   "id": "0cc1cd9f-001c-48dd-bb06-98fad012d985",
   "metadata": {},
   "outputs": [
    {
     "name": "stdout",
     "output_type": "stream",
     "text": [
      "+---+--------+----------+------------+------+----------+\n",
      "| id|    name|birth_date|  occupation|gender|Experience|\n",
      "+---+--------+----------+------------+------+----------+\n",
      "|  1|    John|  05/23/85|      Doctor|     M|        86|\n",
      "|  2|    Mary|  09/12/92|    Engineer|     F|        72|\n",
      "|  3|     Joe|  02/08/78|      Lawyer|     M|        53|\n",
      "|  4|    Anna|  07/31/89|  Programmer|     F|        61|\n",
      "|  5|    Paul|  11/17/96|     Student|     M|        17|\n",
      "|  6|  Renata|  04/02/81|       Nurse|     F|        63|\n",
      "|  7|    Luke|  08/19/93|   Architect|     M|        42|\n",
      "|  8|Fernanda|  12/27/75|Psychologist|     F|        58|\n",
      "|  9|     Gus|  03/14/90|Veterinarian|     M|        50|\n",
      "| 10|   Julie|  06/21/82|  Programmer|     F|        64|\n",
      "| 11| Raphael|  10/09/95|     Student|     M|         2|\n",
      "| 12|   Carol|  01/25/87|  Journalist|     F|        59|\n",
      "| 13| Matthew|  05/07/79|Entrepreneur|     M|        63|\n",
      "| 14|   Bruna|  08/01/94|    Designer|     F|        51|\n",
      "| 15|   Fabio|  12/18/86|  Pharmacist|     M|        41|\n",
      "| 16| Camille|  02/06/80|     Teacher|     F|        68|\n",
      "| 17|  Andrew|  06/22/91|    Engineer|     M|        40|\n",
      "| 18| Maryann|  11/13/83|Psychiatrist|     F|        15|\n",
      "| 19|    Pete|  03/30/98|     Student|     M|        79|\n",
      "| 20|   Luana|  07/15/76|      Doctor|     F|        69|\n",
      "+---+--------+----------+------------+------+----------+\n",
      "\n"
     ]
    }
   ],
   "source": [
    "# Add a column in dataframe\n",
    "from pyspark.sql.functions import rand\n",
    "df = df.withColumn(\"Experience\", (rand() * 100).cast(\"int\"))\n",
    "df.show()"
   ]
  },
  {
   "cell_type": "code",
   "execution_count": 14,
   "id": "cc09e4bb-47e5-43eb-ae4a-b3d911aac449",
   "metadata": {},
   "outputs": [
    {
     "name": "stdout",
     "output_type": "stream",
     "text": [
      "+---+--------+----------+------------+------+----------+\n",
      "| id|    name|birth_date|  occupation|gender|Experience|\n",
      "+---+--------+----------+------------+------+----------+\n",
      "|  1|    John|  05/23/85|      Doctor|     M|        86|\n",
      "|  2|    Mary|  09/12/92|    Engineer|     F|        72|\n",
      "|  3|     Joe|  02/08/78|      Lawyer|     M|        53|\n",
      "|  4|    Anna|  07/31/89|  Programmer|     F|        61|\n",
      "|  5|    Paul|  11/17/96|     Student|     M|        17|\n",
      "|  6|  Renata|  04/02/81|       Nurse|     F|        63|\n",
      "|  7|    Luke|  08/19/93|   Architect|     M|        42|\n",
      "|  8|Fernanda|  12/27/75|Psychologist|     F|        58|\n",
      "|  9|     Gus|  03/14/90|Veterinarian|     M|        50|\n",
      "| 10|   Julie|  06/21/82|  Programmer|     F|        64|\n",
      "| 11| Raphael|  10/09/95|     Student|     M|         2|\n",
      "| 12|   Carol|  01/25/87|  Journalist|     F|        59|\n",
      "| 13| Matthew|  05/07/79|Entrepreneur|     M|        63|\n",
      "| 14|   Bruna|  08/01/94|    Designer|     F|        51|\n",
      "| 15|   Fabio|  12/18/86|  Pharmacist|     M|        41|\n",
      "| 16| Camille|  02/06/80|     Teacher|     F|        68|\n",
      "| 17|  Andrew|  06/22/91|    Engineer|     M|        40|\n",
      "| 18| Maryann|  11/13/83|Psychiatrist|     F|        15|\n",
      "| 19|    Pete|  03/30/98|     Student|     M|        79|\n",
      "| 20|   Luana|  07/15/76|      Doctor|     F|        69|\n",
      "+---+--------+----------+------------+------+----------+\n",
      "\n"
     ]
    }
   ],
   "source": [
    "df = df.drop(\"new Column\")\n",
    "df.show()"
   ]
  },
  {
   "cell_type": "code",
   "execution_count": 15,
   "id": "1ef1f986-0940-486c-8214-0f80f7e26e54",
   "metadata": {},
   "outputs": [
    {
     "name": "stdout",
     "output_type": "stream",
     "text": [
      "+---+--------+----------+------------+------+----------+\n",
      "| id|    name|birth_date|  occupation|gender|Experience|\n",
      "+---+--------+----------+------------+------+----------+\n",
      "|  1|    John|  05/23/85|      Doctor|     M|        88|\n",
      "|  2|    Mary|  09/12/92|    Engineer|     F|        74|\n",
      "|  3|     Joe|  02/08/78|      Lawyer|     M|        55|\n",
      "|  4|    Anna|  07/31/89|  Programmer|     F|        63|\n",
      "|  5|    Paul|  11/17/96|     Student|     M|        19|\n",
      "|  6|  Renata|  04/02/81|       Nurse|     F|        65|\n",
      "|  7|    Luke|  08/19/93|   Architect|     M|        44|\n",
      "|  8|Fernanda|  12/27/75|Psychologist|     F|        60|\n",
      "|  9|     Gus|  03/14/90|Veterinarian|     M|        52|\n",
      "| 10|   Julie|  06/21/82|  Programmer|     F|        66|\n",
      "| 11| Raphael|  10/09/95|     Student|     M|         4|\n",
      "| 12|   Carol|  01/25/87|  Journalist|     F|        61|\n",
      "| 13| Matthew|  05/07/79|Entrepreneur|     M|        65|\n",
      "| 14|   Bruna|  08/01/94|    Designer|     F|        53|\n",
      "| 15|   Fabio|  12/18/86|  Pharmacist|     M|        43|\n",
      "| 16| Camille|  02/06/80|     Teacher|     F|        70|\n",
      "| 17|  Andrew|  06/22/91|    Engineer|     M|        42|\n",
      "| 18| Maryann|  11/13/83|Psychiatrist|     F|        17|\n",
      "| 19|    Pete|  03/30/98|     Student|     M|        81|\n",
      "| 20|   Luana|  07/15/76|      Doctor|     F|        71|\n",
      "+---+--------+----------+------------+------+----------+\n",
      "\n"
     ]
    }
   ],
   "source": [
    "# Add a value to a specific column\n",
    "df = df.withColumn(\"Experience\", df['Experience'] + 2)\n",
    "# df = df.drop(\"After 2 Years\")\n",
    "df.show()"
   ]
  },
  {
   "cell_type": "code",
   "execution_count": 16,
   "id": "96b1a213-a8c1-4949-87e8-c764797fd69e",
   "metadata": {},
   "outputs": [
    {
     "name": "stdout",
     "output_type": "stream",
     "text": [
      "+---+---------+--------+------------+------+----------+\n",
      "| id|FirstName|Birthday|  Occupation|Gender|Experience|\n",
      "+---+---------+--------+------------+------+----------+\n",
      "|  1|     John|05/23/85|      Doctor|     M|        88|\n",
      "|  2|     Mary|09/12/92|    Engineer|     F|        74|\n",
      "|  3|      Joe|02/08/78|      Lawyer|     M|        55|\n",
      "|  4|     Anna|07/31/89|  Programmer|     F|        63|\n",
      "|  5|     Paul|11/17/96|     Student|     M|        19|\n",
      "|  6|   Renata|04/02/81|       Nurse|     F|        65|\n",
      "|  7|     Luke|08/19/93|   Architect|     M|        44|\n",
      "|  8| Fernanda|12/27/75|Psychologist|     F|        60|\n",
      "|  9|      Gus|03/14/90|Veterinarian|     M|        52|\n",
      "| 10|    Julie|06/21/82|  Programmer|     F|        66|\n",
      "| 11|  Raphael|10/09/95|     Student|     M|         4|\n",
      "| 12|    Carol|01/25/87|  Journalist|     F|        61|\n",
      "| 13|  Matthew|05/07/79|Entrepreneur|     M|        65|\n",
      "| 14|    Bruna|08/01/94|    Designer|     F|        53|\n",
      "| 15|    Fabio|12/18/86|  Pharmacist|     M|        43|\n",
      "| 16|  Camille|02/06/80|     Teacher|     F|        70|\n",
      "| 17|   Andrew|06/22/91|    Engineer|     M|        42|\n",
      "| 18|  Maryann|11/13/83|Psychiatrist|     F|        17|\n",
      "| 19|     Pete|03/30/98|     Student|     M|        81|\n",
      "| 20|    Luana|07/15/76|      Doctor|     F|        71|\n",
      "+---+---------+--------+------------+------+----------+\n",
      "\n"
     ]
    }
   ],
   "source": [
    "# for rename one column use: df.withColumnRenamed(oldcolumn, newColumn)\n",
    "# For rename multi columns use this method\n",
    "columns_to_rename = {\"name\": \"FirstName\", \"birth_date\": \"Birthday\", \"occupation\": \"Occupation\", \"gender\":\"Gender\"}\n",
    "\n",
    "for oldname, newName in columns_to_rename.items():\n",
    "    df = df.withColumnRenamed(oldname, newName)\n",
    "\n",
    "df.show()"
   ]
  }
 ],
 "metadata": {
  "kernelspec": {
   "display_name": "Python 3 (ipykernel)",
   "language": "python",
   "name": "python3"
  },
  "language_info": {
   "codemirror_mode": {
    "name": "ipython",
    "version": 3
   },
   "file_extension": ".py",
   "mimetype": "text/x-python",
   "name": "python",
   "nbconvert_exporter": "python",
   "pygments_lexer": "ipython3",
   "version": "3.10.11"
  }
 },
 "nbformat": 4,
 "nbformat_minor": 5
}
