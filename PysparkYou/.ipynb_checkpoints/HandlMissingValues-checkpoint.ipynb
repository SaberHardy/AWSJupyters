{
 "cells": [
  {
   "cell_type": "code",
   "execution_count": 25,
   "id": "3dd61ca8-4b76-4a92-8bf8-1bef9cb6e381",
   "metadata": {},
   "outputs": [],
   "source": [
    "from pyspark.sql import SparkSession"
   ]
  },
  {
   "cell_type": "code",
   "execution_count": 26,
   "id": "aa29f88e-375e-4c75-a6bb-32b5b5b05cb2",
   "metadata": {},
   "outputs": [],
   "source": [
    "spark = SparkSession.builder.appName(\"HandelMissingValues\").getOrCreate()"
   ]
  },
  {
   "cell_type": "code",
   "execution_count": 27,
   "id": "d16d7471-682f-42fa-8150-198383c74366",
   "metadata": {},
   "outputs": [
    {
     "data": {
      "text/html": [
       "\n",
       "            <div>\n",
       "                <p><b>SparkSession - in-memory</b></p>\n",
       "                \n",
       "        <div>\n",
       "            <p><b>SparkContext</b></p>\n",
       "\n",
       "            <p><a href=\"http://LAPTOP-1ZXRST2-USER:4040\">Spark UI</a></p>\n",
       "\n",
       "            <dl>\n",
       "              <dt>Version</dt>\n",
       "                <dd><code>v3.5.0</code></dd>\n",
       "              <dt>Master</dt>\n",
       "                <dd><code>local[*]</code></dd>\n",
       "              <dt>AppName</dt>\n",
       "                <dd><code>HandelMissingValues</code></dd>\n",
       "            </dl>\n",
       "        </div>\n",
       "        \n",
       "            </div>\n",
       "        "
      ],
      "text/plain": [
       "<pyspark.sql.session.SparkSession at 0x222a37e2590>"
      ]
     },
     "execution_count": 27,
     "metadata": {},
     "output_type": "execute_result"
    }
   ],
   "source": [
    "spark"
   ]
  },
  {
   "cell_type": "code",
   "execution_count": 28,
   "id": "dad6ecf2-3102-43b3-b875-e446539a0022",
   "metadata": {},
   "outputs": [
    {
     "name": "stdout",
     "output_type": "stream",
     "text": [
      "+---+-------------+--------------------+----+\n",
      "| id|     fullname|               email| age|\n",
      "+---+-------------+--------------------+----+\n",
      "|  1|     John Doe|  john.doe@email.com|  32|\n",
      "|  2|   Jane Smith|                NULL|  44|\n",
      "|  3| Mark Johnson|mark.johnson@emai...|NULL|\n",
      "|  4|         NULL|emily.brown@email...|  76|\n",
      "|  5|Michael Davis|                NULL|   7|\n",
      "|  6| Sarah Wilson|sarah.wilson@emai...|NULL|\n",
      "|  7|    Kevin Lee|                NULL|NULL|\n",
      "|  8|         NULL|amanda.taylor@ema...|  60|\n",
      "|  9| Brian Miller|brian.miller@emai...|  43|\n",
      "| 10|         NULL|jessica.garcia@em...|NULL|\n",
      "| 11|Eric Robinson|                NULL|  54|\n",
      "| 12|         NULL|rachel.martinez@e...|  22|\n",
      "| 13|  Ryan Carter|ryan.carter@email...|NULL|\n",
      "| 14|         NULL|lisa.turner@email...|  25|\n",
      "| 15|   Alex Brown|                NULL|  35|\n",
      "+---+-------------+--------------------+----+\n",
      "\n"
     ]
    }
   ],
   "source": [
    "data = spark.read.csv('data/missing_data.csv', header=True, inferSchema=True)\n",
    "data.show()"
   ]
  },
  {
   "cell_type": "code",
   "execution_count": 29,
   "id": "4c1f8cd8-087d-43a4-a5af-6a9be557ae42",
   "metadata": {},
   "outputs": [
    {
     "name": "stdout",
     "output_type": "stream",
     "text": [
      "+---+------------+--------------------+---+\n",
      "| id|    fullname|               email|age|\n",
      "+---+------------+--------------------+---+\n",
      "|  1|    John Doe|  john.doe@email.com| 32|\n",
      "|  9|Brian Miller|brian.miller@emai...| 43|\n",
      "+---+------------+--------------------+---+\n",
      "\n"
     ]
    }
   ],
   "source": [
    "# Drop Rows\n",
    "# In this case whenever the null value is exist it will dropped, even if \n",
    "# the other columns contain data, it will be dropped.\n",
    "\n",
    "data.na.drop().show()"
   ]
  },
  {
   "cell_type": "code",
   "execution_count": 30,
   "id": "dc8693f0-74cb-4c50-bb8e-591e0fda429c",
   "metadata": {},
   "outputs": [
    {
     "name": "stdout",
     "output_type": "stream",
     "text": [
      "+---+-------------+--------------------+----+\n",
      "| id|     fullname|               email| age|\n",
      "+---+-------------+--------------------+----+\n",
      "|  1|     John Doe|  john.doe@email.com|  32|\n",
      "|  2|   Jane Smith|                NULL|  44|\n",
      "|  3| Mark Johnson|mark.johnson@emai...|NULL|\n",
      "|  4|         NULL|emily.brown@email...|  76|\n",
      "|  5|Michael Davis|                NULL|   7|\n",
      "|  6| Sarah Wilson|sarah.wilson@emai...|NULL|\n",
      "|  8|         NULL|amanda.taylor@ema...|  60|\n",
      "|  9| Brian Miller|brian.miller@emai...|  43|\n",
      "| 11|Eric Robinson|                NULL|  54|\n",
      "| 12|         NULL|rachel.martinez@e...|  22|\n",
      "| 13|  Ryan Carter|ryan.carter@email...|NULL|\n",
      "| 14|         NULL|lisa.turner@email...|  25|\n",
      "| 15|   Alex Brown|                NULL|  35|\n",
      "+---+-------------+--------------------+----+\n",
      "\n"
     ]
    }
   ],
   "source": [
    "### data.na.drop().show()\n",
    "# This sets a threshold, meaning a row will be dropped only if it has fewer than 3 non-null values.\n",
    "data.na.drop(how=\"any\", thresh=3).show()"
   ]
  },
  {
   "cell_type": "code",
   "execution_count": 31,
   "id": "b3f04b6e-2757-45ed-898a-3d1f55ad4f07",
   "metadata": {},
   "outputs": [
    {
     "name": "stdout",
     "output_type": "stream",
     "text": [
      "+---+------------+--------------------+----+\n",
      "| id|    fullname|               email| age|\n",
      "+---+------------+--------------------+----+\n",
      "|  1|    John Doe|  john.doe@email.com|  32|\n",
      "|  3|Mark Johnson|mark.johnson@emai...|NULL|\n",
      "|  4|        NULL|emily.brown@email...|  76|\n",
      "|  6|Sarah Wilson|sarah.wilson@emai...|NULL|\n",
      "|  8|        NULL|amanda.taylor@ema...|  60|\n",
      "|  9|Brian Miller|brian.miller@emai...|  43|\n",
      "| 10|        NULL|jessica.garcia@em...|NULL|\n",
      "| 12|        NULL|rachel.martinez@e...|  22|\n",
      "| 13| Ryan Carter|ryan.carter@email...|NULL|\n",
      "| 14|        NULL|lisa.turner@email...|  25|\n",
      "+---+------------+--------------------+----+\n",
      "\n"
     ]
    }
   ],
   "source": [
    "# This will drop missing values only on specific column mentioned in subset\n",
    "data.na.drop(how=\"any\", subset=['email']).show()"
   ]
  },
  {
   "cell_type": "markdown",
   "id": "6327d53c-f89c-4c5b-97a9-16688effb756",
   "metadata": {},
   "source": [
    "### Filling The missing values"
   ]
  },
  {
   "cell_type": "code",
   "execution_count": 32,
   "id": "b5be1651-f4ec-46a6-af7a-7a4272ee61ca",
   "metadata": {},
   "outputs": [
    {
     "name": "stdout",
     "output_type": "stream",
     "text": [
      "+---+-------------+--------------------+----+\n",
      "| id|     fullname|               email| age|\n",
      "+---+-------------+--------------------+----+\n",
      "|  1|     John Doe|  john.doe@email.com|  32|\n",
      "|  2|   Jane Smith|       Hello missing|  44|\n",
      "|  3| Mark Johnson|mark.johnson@emai...|NULL|\n",
      "|  4|         NULL|emily.brown@email...|  76|\n",
      "|  5|Michael Davis|       Hello missing|   7|\n",
      "|  6| Sarah Wilson|sarah.wilson@emai...|NULL|\n",
      "|  7|    Kevin Lee|       Hello missing|NULL|\n",
      "|  8|         NULL|amanda.taylor@ema...|  60|\n",
      "|  9| Brian Miller|brian.miller@emai...|  43|\n",
      "| 10|         NULL|jessica.garcia@em...|NULL|\n",
      "| 11|Eric Robinson|       Hello missing|  54|\n",
      "| 12|         NULL|rachel.martinez@e...|  22|\n",
      "| 13|  Ryan Carter|ryan.carter@email...|NULL|\n",
      "| 14|         NULL|lisa.turner@email...|  25|\n",
      "| 15|   Alex Brown|       Hello missing|  35|\n",
      "+---+-------------+--------------------+----+\n",
      "\n"
     ]
    }
   ],
   "source": [
    "### This will fill the missing values with specific string provided in value parameter\n",
    "\n",
    "data.na.fill(value=\"Hello missing\", subset=['email']).show()\n"
   ]
  },
  {
   "cell_type": "code",
   "execution_count": 33,
   "id": "f6534a0d-fad7-48fa-ba83-36adb392773a",
   "metadata": {},
   "outputs": [
    {
     "name": "stdout",
     "output_type": "stream",
     "text": [
      "+---+-------------+--------------------+----+\n",
      "| id|     fullname|               email| age|\n",
      "+---+-------------+--------------------+----+\n",
      "|  1|     John Doe|  john.doe@email.com|  32|\n",
      "|  2|   Jane Smith|                NULL|  44|\n",
      "|  3| Mark Johnson|mark.johnson@emai...|NULL|\n",
      "|  4|         NULL|emily.brown@email...|  76|\n",
      "|  5|Michael Davis|                NULL|   7|\n",
      "|  6| Sarah Wilson|sarah.wilson@emai...|NULL|\n",
      "|  7|    Kevin Lee|                NULL|NULL|\n",
      "|  8|         NULL|amanda.taylor@ema...|  60|\n",
      "|  9| Brian Miller|brian.miller@emai...|  43|\n",
      "| 10|         NULL|jessica.garcia@em...|NULL|\n",
      "| 11|Eric Robinson|                NULL|  54|\n",
      "| 12|         NULL|rachel.martinez@e...|  22|\n",
      "| 13|  Ryan Carter|ryan.carter@email...|NULL|\n",
      "| 14|         NULL|lisa.turner@email...|  25|\n",
      "| 15|   Alex Brown|                NULL|  35|\n",
      "+---+-------------+--------------------+----+\n",
      "\n"
     ]
    }
   ],
   "source": [
    "data.show()"
   ]
  },
  {
   "cell_type": "markdown",
   "id": "9da7a66f-523d-44cb-8f62-6f6a640da714",
   "metadata": {},
   "source": [
    "## Imputed function\n"
   ]
  },
  {
   "cell_type": "raw",
   "id": "9ec77e99-2740-4f6e-89c0-ed33f5f3f6d4",
   "metadata": {},
   "source": [
    "# This function allow us to fill the N/A values with specific value"
   ]
  },
  {
   "cell_type": "code",
   "execution_count": 34,
   "id": "de54e497-cb13-483b-a4b1-e3a113273437",
   "metadata": {},
   "outputs": [],
   "source": [
    "from pyspark.ml.feature import Imputer"
   ]
  },
  {
   "cell_type": "code",
   "execution_count": 41,
   "id": "17e82da5-4806-4a44-a3bd-da97bb299805",
   "metadata": {},
   "outputs": [],
   "source": [
    "imputer = Imputer(\n",
    "    inputCols=[\"age\"],\n",
    "    outputCols=[\"{}_imputed\".format(c) for c in [\"age\"]]\n",
    ").setStrategy(\"median\")"
   ]
  },
  {
   "cell_type": "code",
   "execution_count": 42,
   "id": "75b48b6a-fa99-438f-b688-4151704e082b",
   "metadata": {},
   "outputs": [
    {
     "name": "stdout",
     "output_type": "stream",
     "text": [
      "+---+-------------+--------------------+----+-----------+\n",
      "| id|     fullname|               email| age|age_imputed|\n",
      "+---+-------------+--------------------+----+-----------+\n",
      "|  1|     John Doe|  john.doe@email.com|  32|         32|\n",
      "|  2|   Jane Smith|                NULL|  44|         44|\n",
      "|  3| Mark Johnson|mark.johnson@emai...|NULL|         35|\n",
      "|  4|         NULL|emily.brown@email...|  76|         76|\n",
      "|  5|Michael Davis|                NULL|   7|          7|\n",
      "|  6| Sarah Wilson|sarah.wilson@emai...|NULL|         35|\n",
      "|  7|    Kevin Lee|                NULL|NULL|         35|\n",
      "|  8|         NULL|amanda.taylor@ema...|  60|         60|\n",
      "|  9| Brian Miller|brian.miller@emai...|  43|         43|\n",
      "| 10|         NULL|jessica.garcia@em...|NULL|         35|\n",
      "| 11|Eric Robinson|                NULL|  54|         54|\n",
      "| 12|         NULL|rachel.martinez@e...|  22|         22|\n",
      "| 13|  Ryan Carter|ryan.carter@email...|NULL|         35|\n",
      "| 14|         NULL|lisa.turner@email...|  25|         25|\n",
      "| 15|   Alex Brown|                NULL|  35|         35|\n",
      "+---+-------------+--------------------+----+-----------+\n",
      "\n"
     ]
    }
   ],
   "source": [
    "# Add imputation cols to df\n",
    "imputer.fit(data).transform(data).show()"
   ]
  },
  {
   "cell_type": "markdown",
   "id": "44c90315-1d1a-49cb-980a-8ef93dc15ef3",
   "metadata": {},
   "source": [
    "# Filter Operations"
   ]
  },
  {
   "cell_type": "code",
   "execution_count": 44,
   "id": "8d633a8f-96b3-4c19-8cb3-9430f041bd89",
   "metadata": {},
   "outputs": [],
   "source": [
    "### find age less than 30 years old!"
   ]
  },
  {
   "cell_type": "code",
   "execution_count": 48,
   "id": "81ee68c4-4b0c-4ca8-939a-c6b09b1ed022",
   "metadata": {},
   "outputs": [
    {
     "name": "stdout",
     "output_type": "stream",
     "text": [
      "+---+-------------+--------------------+---+\n",
      "| id|     fullname|               email|age|\n",
      "+---+-------------+--------------------+---+\n",
      "|  1|     John Doe|  john.doe@email.com| 32|\n",
      "|  2|   Jane Smith|                NULL| 44|\n",
      "|  5|Michael Davis|                NULL|  7|\n",
      "|  9| Brian Miller|brian.miller@emai...| 43|\n",
      "| 12|         NULL|rachel.martinez@e...| 22|\n",
      "| 14|         NULL|lisa.turner@email...| 25|\n",
      "| 15|   Alex Brown|                NULL| 35|\n",
      "+---+-------------+--------------------+---+\n",
      "\n"
     ]
    }
   ],
   "source": [
    "data.filter(\"age < 50\").show()"
   ]
  },
  {
   "cell_type": "code",
   "execution_count": 51,
   "id": "9616a12f-bad4-42b7-ae1d-3476c92d28f9",
   "metadata": {},
   "outputs": [
    {
     "name": "stdout",
     "output_type": "stream",
     "text": [
      "+-------------+---+\n",
      "|     fullname|age|\n",
      "+-------------+---+\n",
      "|     John Doe| 32|\n",
      "|   Jane Smith| 44|\n",
      "|Michael Davis|  7|\n",
      "| Brian Miller| 43|\n",
      "|         NULL| 22|\n",
      "|         NULL| 25|\n",
      "|   Alex Brown| 35|\n",
      "+-------------+---+\n",
      "\n"
     ]
    }
   ],
   "source": [
    "# Select multi columns, with condition\n",
    "data.filter(\"age < 50\").select(['fullname', 'age']).show()"
   ]
  },
  {
   "cell_type": "code",
   "execution_count": 58,
   "id": "62c60832-f946-463b-9ad5-d2c625d77958",
   "metadata": {},
   "outputs": [
    {
     "name": "stdout",
     "output_type": "stream",
     "text": [
      "+---+-------------+--------------------+----+-------+\n",
      "| id|     fullname|               email| age| Salary|\n",
      "+---+-------------+--------------------+----+-------+\n",
      "|  1|     John Doe|  john.doe@email.com|  32|9716.43|\n",
      "|  2|   Jane Smith|                NULL|  44|9940.57|\n",
      "|  3| Mark Johnson|mark.johnson@emai...|NULL|2774.51|\n",
      "|  4|         NULL|emily.brown@email...|  76|5006.51|\n",
      "|  5|Michael Davis|                NULL|   7|2723.69|\n",
      "|  6| Sarah Wilson|sarah.wilson@emai...|NULL|7490.79|\n",
      "|  7|    Kevin Lee|                NULL|NULL|8917.66|\n",
      "|  8|         NULL|amanda.taylor@ema...|  60|1913.98|\n",
      "|  9| Brian Miller|brian.miller@emai...|  43|9039.98|\n",
      "| 10|         NULL|jessica.garcia@em...|NULL|1158.82|\n",
      "| 11|Eric Robinson|                NULL|  54|6786.92|\n",
      "| 12|         NULL|rachel.martinez@e...|  22|1807.43|\n",
      "| 13|  Ryan Carter|ryan.carter@email...|NULL|6746.71|\n",
      "| 14|         NULL|lisa.turner@email...|  25|2671.34|\n",
      "| 15|   Alex Brown|                NULL|  35|7313.46|\n",
      "+---+-------------+--------------------+----+-------+\n",
      "\n"
     ]
    }
   ],
   "source": [
    "# add column with specific values\n",
    "from pyspark.sql.functions import rand, round\n",
    "\n",
    "data = data.withColumn(\"Salary\", round(rand() * 10000 + rand() * 13, 2))\n",
    "data.show()"
   ]
  },
  {
   "cell_type": "code",
   "execution_count": 61,
   "id": "0992ccef-ad15-4dba-9c49-b6341762d01c",
   "metadata": {},
   "outputs": [
    {
     "name": "stdout",
     "output_type": "stream",
     "text": [
      "+---+-------------+--------------------+---+-------+\n",
      "| id|     fullname|               email|age| Salary|\n",
      "+---+-------------+--------------------+---+-------+\n",
      "|  1|     John Doe|  john.doe@email.com| 32|9716.43|\n",
      "|  2|   Jane Smith|                NULL| 44|9940.57|\n",
      "|  4|         NULL|emily.brown@email...| 76|5006.51|\n",
      "|  9| Brian Miller|brian.miller@emai...| 43|9039.98|\n",
      "| 11|Eric Robinson|                NULL| 54|6786.92|\n",
      "| 15|   Alex Brown|                NULL| 35|7313.46|\n",
      "+---+-------------+--------------------+---+-------+\n",
      "\n"
     ]
    }
   ],
   "source": [
    "# select with multi condition:\n",
    "data.filter((data[\"Salary\"] > 4500) & (data['age'] > 25)).show()"
   ]
  },
  {
   "cell_type": "code",
   "execution_count": null,
   "id": "3445f099-a3e0-413e-83e1-1d4681e0ec42",
   "metadata": {},
   "outputs": [],
   "source": [
    "# 52:44 "
   ]
  },
  {
   "cell_type": "code",
   "execution_count": null,
   "id": "4e518a34-4b42-4cdc-a389-2963319740e6",
   "metadata": {},
   "outputs": [],
   "source": []
  },
  {
   "cell_type": "code",
   "execution_count": null,
   "id": "2ae54e04-6cca-42e4-928c-20d1674b22a3",
   "metadata": {},
   "outputs": [],
   "source": []
  },
  {
   "cell_type": "code",
   "execution_count": null,
   "id": "3fec7352-9733-4b30-853b-05573f82687c",
   "metadata": {},
   "outputs": [],
   "source": []
  },
  {
   "cell_type": "code",
   "execution_count": null,
   "id": "f6e55c69-411f-4ebc-ae5e-39dd7d89ebe8",
   "metadata": {},
   "outputs": [],
   "source": []
  },
  {
   "cell_type": "code",
   "execution_count": null,
   "id": "61c1a379-42fc-47a5-a2f3-a65908924a36",
   "metadata": {},
   "outputs": [],
   "source": []
  },
  {
   "cell_type": "code",
   "execution_count": null,
   "id": "ba5557e3-45bd-4d08-80b5-7e40d8497c5b",
   "metadata": {},
   "outputs": [],
   "source": []
  },
  {
   "cell_type": "code",
   "execution_count": null,
   "id": "5af10013-4190-4e1d-9388-339dde5e352d",
   "metadata": {},
   "outputs": [],
   "source": []
  },
  {
   "cell_type": "code",
   "execution_count": null,
   "id": "79d31cbe-1d05-48e3-ba6b-86c9fad3fbe8",
   "metadata": {},
   "outputs": [],
   "source": []
  },
  {
   "cell_type": "code",
   "execution_count": null,
   "id": "2aa6c325-b260-46c8-b00a-4c251bdbe912",
   "metadata": {},
   "outputs": [],
   "source": []
  },
  {
   "cell_type": "code",
   "execution_count": null,
   "id": "38421983-445d-4e0a-a4e7-aac0ab75afb7",
   "metadata": {},
   "outputs": [],
   "source": []
  },
  {
   "cell_type": "code",
   "execution_count": null,
   "id": "5b93ee03-0b41-462a-91de-650d5ad0d90e",
   "metadata": {},
   "outputs": [],
   "source": []
  },
  {
   "cell_type": "code",
   "execution_count": null,
   "id": "426ac7c4-cd03-438e-af02-a79968bdb92b",
   "metadata": {},
   "outputs": [],
   "source": []
  }
 ],
 "metadata": {
  "kernelspec": {
   "display_name": "Python 3 (ipykernel)",
   "language": "python",
   "name": "python3"
  },
  "language_info": {
   "codemirror_mode": {
    "name": "ipython",
    "version": 3
   },
   "file_extension": ".py",
   "mimetype": "text/x-python",
   "name": "python",
   "nbconvert_exporter": "python",
   "pygments_lexer": "ipython3",
   "version": "3.10.11"
  }
 },
 "nbformat": 4,
 "nbformat_minor": 5
}
